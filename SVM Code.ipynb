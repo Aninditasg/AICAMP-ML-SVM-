{
 "cells": [
  {
   "cell_type": "code",
   "execution_count": null,
   "metadata": {},
   "outputs": [],
   "source": [
    "import numpy as np # linear algebra\n",
    "import pandas as pd # data processing, CSV file I/O (e.g. pd.read_csv)\n",
    "from sklearn.model_selection import train_test_split #split data into train and test sets\n",
    "from sklearn.feature_extraction.text import CountVectorizer #convert text comment into a numeric vector\n",
    "from sklearn.feature_extraction.text import TfidfTransformer #use TF IDF transformer to change text vector created by count vectorizer\n",
    "from sklearn.svm import SVC# Support Vector Machine\n",
    "from sklearn.pipeline import Pipeline #pipeline to implement steps in series\n",
    "from gensim import parsing # To stem data"
   ]
  },
  {
   "cell_type": "code",
   "execution_count": null,
   "metadata": {},
   "outputs": [],
   "source": [
    "#Read csv into a dataframe\n",
    "df = pd.read_csv(\"../input/Sharktankpitchesdeals.csv\")\n",
    "#print first 5 rows of dataset\n",
    "print(df.head())"
   ]
  },
  {
   "cell_type": "markdown",
   "metadata": {},
   "source": [
    "To train supervised classifiers, we will  transform the “Pitched Business Desc” into a vector of numbers such as TF-IDF weighted vectors.\n",
    "After having this vector representations of the text we can train supervised classifiers to train unseen “Pitched Business Desc ” and predict the “Deal Status ” on which they fall."
   ]
  },
  {
   "cell_type": "code",
   "execution_count": null,
   "metadata": {},
   "outputs": [],
   "source": [
    "#for grouping similar words such as 'trying\" and \"try\" are same words\n",
    "def parse(s):\n",
    "    parsing.stem_text(s)\n",
    "    return s\n",
    "\n",
    "#applying parsing to comments.\n",
    "for i in range(0,len(df)):\n",
    "    df.iloc[i,2]=parse(df.iloc[i,2])\n",
    "    \n",
    "#Seperate data into feature and results\n",
    "X, y = df['Pitched_Business_Desc'].tolist(), df['Deal_Status'].tolist()\n",
    "\n",
    "#Split data in train and test sets.\n",
    "X_train, X_test, y_train, y_test = train_test_split(X, y, test_size=0.25)\n",
    "\n",
    "\n",
    "\n",
    "#Use pipeline to carry out steps in sequence with a single object\n",
    "#SVM's rbf kernel gives highest accuracy in this classification problem.\n",
    "\n",
    "text_clf = Pipeline([('vect', CountVectorizer()), ('tfidf', TfidfTransformer()), ('clf', SVC(kernel='rbf'))])\n",
    "\n",
    "#train model\n",
    "text_clf.fit(X_train, y_train)\n",
    "\n",
    "\n",
    "#predict class form test data \n",
    "predicted = text_clf.predict(X_test)"
   ]
  }
 ],
 "metadata": {
  "kernelspec": {
   "display_name": "Python 3",
   "language": "python",
   "name": "python3"
  },
  "language_info": {
   "codemirror_mode": {
    "name": "ipython",
    "version": 3
   },
   "file_extension": ".py",
   "mimetype": "text/x-python",
   "name": "python",
   "nbconvert_exporter": "python",
   "pygments_lexer": "ipython3",
   "version": "3.7.3"
  }
 },
 "nbformat": 4,
 "nbformat_minor": 2
}
